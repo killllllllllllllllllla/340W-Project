{
  "cells": [
    {
      "cell_type": "markdown",
      "id": "5a35da4d-4e0b-48d2-9441-85380f3c30d0",
      "metadata": {
        "id": "5a35da4d-4e0b-48d2-9441-85380f3c30d0"
      },
      "source": [
        "# The Bisection Method\n",
        "\n",
        "Write/complete the python program below to perform the Bisection Method. Use it for the following problems.\n",
        "\n",
        "1. Find an approximation to within $10^{-5}$ to a value in $[0.5,1.5]$ with $e^{x}-2 = \\cos(e^{x}-2$).\n",
        "\n",
        "\n",
        "2. Find an approximation to within $10^{-5}$ to the first positive value of $x$ with $x= \\tan{x}$.\n",
        "\n",
        "**To evalute cells, type shift + enter.**"
      ]
    },
    {
      "cell_type": "code",
      "execution_count": 1,
      "id": "163fb8c4-d79e-478b-98c6-adf781bffe5e",
      "metadata": {
        "id": "163fb8c4-d79e-478b-98c6-adf781bffe5e"
      },
      "outputs": [],
      "source": [
        "import numpy as np\n",
        "import math\n",
        "from matplotlib import pyplot as plt\n",
        "from ipywidgets import interactive, fixed"
      ]
    },
    {
      "cell_type": "code",
      "execution_count": 23,
      "id": "779913c8-f28e-4282-8c00-a9e6acc1b2b8",
      "metadata": {
        "id": "779913c8-f28e-4282-8c00-a9e6acc1b2b8"
      },
      "outputs": [],
      "source": [
        "# Bisection Method\n",
        "# Computes approximate solution of f(x) = 0\n",
        "# Input: a,b such that f(a)*f(b)<0 and tolerance tol\n",
        "# Output: Approximate solution xc\n",
        "\n",
        "\n",
        "def bisect(a,b,tol):\n",
        "\n",
        "    fa = f(a)\n",
        "    fb = f(b)\n",
        "\n",
        "    # Check sign change on [a,b].\n",
        "    product = fa*fb\n",
        "    if product >= 0:\n",
        "        print(\"f(a)f(b)<0 not satisfied: f(a)*f(b) = \",product,\">= 0\")\n",
        "        return\n",
        "\n",
        "    count = 0\n",
        "    while (b-a)/2 > tol:\n",
        "\n",
        "        count = count + 1\n",
        "        # new midpoint\n",
        "        c  = (a+b)/2\n",
        "        fc = f(c)\n",
        "        print(\"n = \",count,\":\",\"c = \",c)\n",
        "\n",
        "        # establish new interval containing root\n",
        "        if fc == 0:\n",
        "            return c\n",
        "        if fa*fc < 0:\n",
        "            b  = c\n",
        "            fb = fc\n",
        "        else:\n",
        "            a  = c\n",
        "            fa = fc\n",
        "\n",
        "    c = (a+b)/2\n",
        "    print(\"n = \",count+1,\":\",\"c = \",c)\n",
        "\n",
        "    return c\n",
        "\n"
      ]
    },
    {
      "cell_type": "markdown",
      "id": "92196047-ce28-47db-ac3b-6ad1ab81c366",
      "metadata": {
        "id": "92196047-ce28-47db-ac3b-6ad1ab81c366"
      },
      "source": [
        "1. $$e^{x}-2 - \\cos(e^{x}-2) = 0\\quad \\text{on}\\quad [0.5,1.5]\\quad \\text{within tolerance of}\\quad 10^{-5}$$"
      ]
    },
    {
      "cell_type": "markdown",
      "id": "b0841945-7cbc-4ad0-9256-651fad5daddd",
      "metadata": {
        "id": "b0841945-7cbc-4ad0-9256-651fad5daddd"
      },
      "source": [
        "2. $$x= \\tan{x}\\quad \\text{on}\\quad [a,b]\\quad \\text{within tolerance of}\\quad 10^{-5}$$"
      ]
    },
    {
      "cell_type": "code",
      "execution_count": 24,
      "id": "bfa27adf-5aa2-401d-a256-f7b55ffde520",
      "metadata": {
        "id": "bfa27adf-5aa2-401d-a256-f7b55ffde520"
      },
      "outputs": [],
      "source": [
        "f = lambda x: math.exp(x - 2) - math.cos(math.exp(x - 2))\n",
        "\n"
      ]
    },
    {
      "cell_type": "code",
      "source": [
        "bisect(0.5,1.5,10e-5)"
      ],
      "metadata": {
        "id": "BxiAfe2Sh7wt",
        "outputId": "7ceef05a-1c20-4a6b-d34e-68c23118ffbb",
        "colab": {
          "base_uri": "https://localhost:8080/"
        }
      },
      "id": "BxiAfe2Sh7wt",
      "execution_count": 25,
      "outputs": [
        {
          "output_type": "stream",
          "name": "stdout",
          "text": [
            "f(a)f(b)<0 not satisfied: f(a)*f(b) =  0.16177220225998112 >= 0\n"
          ]
        }
      ]
    },
    {
      "cell_type": "code",
      "source": [
        "f= lambda x: math.tan(x)\n",
        "bisect(a,b,10e-5)"
      ],
      "metadata": {
        "id": "a-0-BUJ6iv4L",
        "outputId": "d4ff2413-f0ec-487c-b474-c254ca55c907",
        "colab": {
          "base_uri": "https://localhost:8080/",
          "height": 159
        }
      },
      "id": "a-0-BUJ6iv4L",
      "execution_count": 26,
      "outputs": [
        {
          "output_type": "error",
          "ename": "NameError",
          "evalue": "name 'a' is not defined",
          "traceback": [
            "\u001b[0;31m---------------------------------------------------------------------------\u001b[0m",
            "\u001b[0;31mNameError\u001b[0m                                 Traceback (most recent call last)",
            "\u001b[0;32m/tmp/ipython-input-3139089708.py\u001b[0m in \u001b[0;36m<cell line: 0>\u001b[0;34m()\u001b[0m\n\u001b[1;32m      1\u001b[0m \u001b[0mf\u001b[0m\u001b[0;34m=\u001b[0m \u001b[0;32mlambda\u001b[0m \u001b[0mx\u001b[0m\u001b[0;34m:\u001b[0m \u001b[0mmath\u001b[0m\u001b[0;34m.\u001b[0m\u001b[0mtan\u001b[0m\u001b[0;34m(\u001b[0m\u001b[0mx\u001b[0m\u001b[0;34m)\u001b[0m\u001b[0;34m\u001b[0m\u001b[0;34m\u001b[0m\u001b[0m\n\u001b[0;32m----> 2\u001b[0;31m \u001b[0mbisect\u001b[0m\u001b[0;34m(\u001b[0m\u001b[0ma\u001b[0m\u001b[0;34m,\u001b[0m\u001b[0mb\u001b[0m\u001b[0;34m,\u001b[0m\u001b[0;36m10e-5\u001b[0m\u001b[0;34m)\u001b[0m\u001b[0;34m\u001b[0m\u001b[0;34m\u001b[0m\u001b[0m\n\u001b[0m",
            "\u001b[0;31mNameError\u001b[0m: name 'a' is not defined"
          ]
        }
      ]
    }
  ],
  "metadata": {
    "kernelspec": {
      "display_name": "Python 3 (ipykernel)",
      "language": "python",
      "name": "python3"
    },
    "language_info": {
      "codemirror_mode": {
        "name": "ipython",
        "version": 3
      },
      "file_extension": ".py",
      "mimetype": "text/x-python",
      "name": "python",
      "nbconvert_exporter": "python",
      "pygments_lexer": "ipython3",
      "version": "3.13.3"
    },
    "colab": {
      "provenance": []
    }
  },
  "nbformat": 4,
  "nbformat_minor": 5
}